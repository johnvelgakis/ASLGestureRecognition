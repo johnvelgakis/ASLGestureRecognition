{
 "cells": [
  {
   "cell_type": "code",
   "execution_count": 1,
   "id": "5a192af2",
   "metadata": {},
   "outputs": [],
   "source": [
    "# import library for various processes with the OS\n",
    "import os"
   ]
  },
  {
   "cell_type": "markdown",
   "id": "c1a34708",
   "metadata": {},
   "source": [
    "## Load configuration"
   ]
  },
  {
   "cell_type": "code",
   "execution_count": 2,
   "id": "4e970c28",
   "metadata": {},
   "outputs": [],
   "source": [
    "# import library for yaml handling\n",
    "import yaml"
   ]
  },
  {
   "cell_type": "code",
   "execution_count": 3,
   "id": "bbb4f44b",
   "metadata": {},
   "outputs": [],
   "source": [
    "config_path = os.path.join(os.getcwd(), \"config.yml\")\n",
    "\n",
    "with open(config_path) as file:\n",
    "    config = yaml.load(file, Loader=yaml.FullLoader)"
   ]
  },
  {
   "cell_type": "code",
   "execution_count": 4,
   "id": "f3cc2add",
   "metadata": {},
   "outputs": [],
   "source": [
    "# import library for hanlding the MongoDB client\n",
    "import pymongo\n",
    "# import library for retrieving datetime\n",
    "from datetime import datetime\n",
    "from natsort import natsorted"
   ]
  },
  {
   "cell_type": "markdown",
   "id": "7dbbbe9f",
   "metadata": {},
   "source": [
    "### Create the database"
   ]
  },
  {
   "cell_type": "code",
   "execution_count": 5,
   "id": "bdbb888f",
   "metadata": {},
   "outputs": [],
   "source": [
    "client = pymongo.MongoClient(config[\"client\"])"
   ]
  },
  {
   "cell_type": "code",
   "execution_count": 6,
   "id": "203c2bc7",
   "metadata": {},
   "outputs": [],
   "source": [
    "db = client[config[\"db\"]]"
   ]
  },
  {
   "cell_type": "markdown",
   "id": "0772e744",
   "metadata": {},
   "source": [
    "### Instantiate the collection"
   ]
  },
  {
   "cell_type": "code",
   "execution_count": 7,
   "id": "9937a0c8",
   "metadata": {},
   "outputs": [],
   "source": [
    "col = db[config[\"col\"]]"
   ]
  },
  {
   "cell_type": "markdown",
   "id": "2b5cd593",
   "metadata": {},
   "source": [
    "## Create the data collection\n",
    "\n",
    "Uploading the gathered data to MongoDB collection. The data directory structure should be as follows:\n",
    "\n",
    "```\n",
    ".\n",
    "└── data/\n",
    "    ├── class_A/\n",
    "    │   ├── data_A_01.csv\n",
    "    │   ├── data_A_02.csv\n",
    "    │   └── ..\n",
    "    ├── class_B/\n",
    "    │   ├── data_B_01.csv\n",
    "    │   ├── data_B_02.csv\n",
    "    │   └── .\n",
    "    └── class ...\n",
    "```"
   ]
  },
  {
   "cell_type": "code",
   "execution_count": 8,
   "id": "622636fd",
   "metadata": {},
   "outputs": [],
   "source": [
    "# import library for hanlding the csv data and transformations\n",
    "import pandas as pd"
   ]
  },
  {
   "cell_type": "markdown",
   "id": "557bb203",
   "metadata": {},
   "source": [
    "### Format data folder to the above schema/convention"
   ]
  },
  {
   "cell_type": "code",
   "execution_count": 9,
   "id": "43091fb7",
   "metadata": {},
   "outputs": [],
   "source": [
    "from utils import format_wrist_data"
   ]
  },
  {
   "cell_type": "code",
   "execution_count": 10,
   "id": "525a90b5",
   "metadata": {},
   "outputs": [
    {
     "data": {
      "text/plain": [
       "'C:\\\\Users\\\\gkont\\\\Desktop\\\\AIoT-2023-Team-05\\\\ASL'"
      ]
     },
     "execution_count": 10,
     "metadata": {},
     "output_type": "execute_result"
    }
   ],
   "source": [
    "data_path = config['data_path']\n",
    "data_path"
   ]
  },
  {
   "cell_type": "code",
   "execution_count": 12,
   "id": "610bdf17",
   "metadata": {},
   "outputs": [
    {
     "name": "stdout",
     "output_type": "stream",
     "text": [
      "==============================CLASS_A==============================\n",
      "Class 'CLASS_A' contains 100 files\n",
      "50 total sessions after merging the axes\n",
      "==============================CLASS_B==============================\n",
      "Class 'CLASS_B' contains 100 files\n",
      "50 total sessions after merging the axes\n",
      "==============================CLASS_C==============================\n",
      "Class 'CLASS_C' contains 100 files\n",
      "50 total sessions after merging the axes\n",
      "==============================CLASS_D==============================\n",
      "Class 'CLASS_D' contains 100 files\n",
      "51 total sessions after merging the axes\n",
      "==============================CLASS_E==============================\n",
      "Class 'CLASS_E' contains 100 files\n",
      "50 total sessions after merging the axes\n",
      "==============================CLASS_F==============================\n",
      "Class 'CLASS_F' contains 102 files\n",
      "51 total sessions after merging the axes\n"
     ]
    }
   ],
   "source": [
    "format_wrist_data(data_path)"
   ]
  },
  {
   "cell_type": "markdown",
   "id": "8284fc09",
   "metadata": {},
   "source": [
    "### Load formated data"
   ]
  },
  {
   "cell_type": "code",
   "execution_count": 13,
   "id": "912f079f",
   "metadata": {},
   "outputs": [
    {
     "data": {
      "text/plain": [
       "'C:\\\\Users\\\\gkont\\\\Desktop\\\\AIoT-2023-Team-05\\\\data'"
      ]
     },
     "execution_count": 13,
     "metadata": {},
     "output_type": "execute_result"
    }
   ],
   "source": [
    "# Get data path\n",
    "coll_path = os.path.join(os.getcwd(), 'data')\n",
    "coll_path"
   ]
  },
  {
   "cell_type": "code",
   "execution_count": 14,
   "id": "fd476759",
   "metadata": {},
   "outputs": [
    {
     "name": "stdout",
     "output_type": "stream",
     "text": [
      "['CLASS_A', 'CLASS_B', 'CLASS_C', 'CLASS_D', 'CLASS_E', 'CLASS_F']\n"
     ]
    }
   ],
   "source": [
    "# List all files in a path\n",
    "classes_folders_list = [f for f in os.listdir(coll_path) if os.path.isdir(os.path.join(coll_path, f))]\n",
    "print(classes_folders_list)"
   ]
  },
  {
   "cell_type": "markdown",
   "id": "f036ad74",
   "metadata": {},
   "source": [
    "### Empty database"
   ]
  },
  {
   "cell_type": "code",
   "execution_count": 15,
   "id": "efb90a66",
   "metadata": {},
   "outputs": [
    {
     "name": "stdout",
     "output_type": "stream",
     "text": [
      "Deleted 31 documents.\n"
     ]
    }
   ],
   "source": [
    "# Delete all documents in the collection\n",
    "result = col.delete_many({})\n",
    "\n",
    "# Print the number of deleted documents\n",
    "print(f\"Deleted {result.deleted_count} documents.\")"
   ]
  },
  {
   "cell_type": "markdown",
   "id": "c65d2961",
   "metadata": {},
   "source": [
    "Each document in the MongoDB database have the following schema:\n",
    "\n",
    "```json\n",
    "{\n",
    "  \"data\": {\n",
    "    \"acc_x\": [\"array\", \"of\", \"values\"],\n",
    "    \"acc_y\": [\"array\", \"of\", \"values\"],\n",
    "    \"acc_z\": [\"array\", \"of\", \"values\"],\n",
    "  },\n",
    "  \"label\": \"The label of the instance\",\n",
    "  \"datetime\": \"MongoDB datetime object\"\n",
    "}\n",
    "```\n",
    "\n",
    "Accordingly, if you are using gyroscope or both accelerometer and gyroscope (like in our case), the following order and naming of the sensor keys should be defined:\n",
    "\n",
    "* for gyroscope: `gyr_x`, `gyr_y`, `gyr_z` for the three axes\n",
    "* for accelerometer and gyroscope: `acc_x`, `acc_y`, `acc_z`, `gyr_x`, `gyr_y`, `gyr_z` for the six axes\n",
    "\n",
    "**Note: Be careful, the document is mandatory to have the aforementioned schema, in order to argue and proceed with the rest of the processes later on, in data engineering, plotting, etc.**"
   ]
  },
  {
   "cell_type": "markdown",
   "id": "115f2ae5",
   "metadata": {},
   "source": [
    "## Upload the data to MongoDB"
   ]
  },
  {
   "cell_type": "code",
   "execution_count": 16,
   "id": "90a8d6bc",
   "metadata": {},
   "outputs": [
    {
     "data": {
      "text/plain": [
       "['x-axis (g)',\n",
       " 'y-axis (g)',\n",
       " 'z-axis (g)',\n",
       " 'x-axis (deg/s)',\n",
       " 'y-axis (deg/s)',\n",
       " 'z-axis (deg/s)']"
      ]
     },
     "execution_count": 16,
     "metadata": {},
     "output_type": "execute_result"
    }
   ],
   "source": [
    "cols = config['order']\n",
    "cols"
   ]
  },
  {
   "cell_type": "code",
   "execution_count": 18,
   "id": "8f4b6b29",
   "metadata": {},
   "outputs": [],
   "source": [
    "# for each folder data class\n",
    "for cls in classes_folders_list:\n",
    "    # define semi-complete path\n",
    "    folder_path = os.path.join(coll_path, cls)\n",
    "    \n",
    "    # Validate and list all the files/samples of the particular class\n",
    "    files_in_folder = natsorted([f for f in os.listdir(folder_path) if os.path.isfile(os.path.join(folder_path, f))])\n",
    "\n",
    "    # for each file/sample\n",
    "    for file in files_in_folder:\n",
    "        # read as csv and formulate json format to upload in mongodb\n",
    "        df_sample = pd.read_csv(os.path.join(folder_path, file))\n",
    "        ax, ay, az, gx, gy, gz = [list(df_sample[col]) for col in cols]\n",
    "        \n",
    "        document = {\"data\": {\n",
    "                        \"acc_x\": ax,\n",
    "                        \"acc_y\": ay,\n",
    "                        \"acc_z\": az,\n",
    "                        \"gyr_x\": gx,\n",
    "                        \"gyr_y\": gy,\n",
    "                        \"gyr_z\": gz\n",
    "                    },\n",
    "                   \"label\": cls,\n",
    "                   \"datetime\": datetime.now()\n",
    "                }\n",
    "        col.insert_one(document)"
   ]
  },
  {
   "cell_type": "code",
   "execution_count": 20,
   "id": "dfb4b322",
   "metadata": {},
   "outputs": [
    {
     "data": {
      "text/plain": [
       "ObjectId('647088792228156f65027a14')"
      ]
     },
     "execution_count": 20,
     "metadata": {},
     "output_type": "execute_result"
    }
   ],
   "source": [
    "# upload check\n",
    "col.find_one({\"label\": \"CLASS_A\"})['_id']"
   ]
  }
 ],
 "metadata": {
  "kernelspec": {
   "display_name": "Python 3 (ipykernel)",
   "language": "python",
   "name": "python3"
  },
  "language_info": {
   "codemirror_mode": {
    "name": "ipython",
    "version": 3
   },
   "file_extension": ".py",
   "mimetype": "text/x-python",
   "name": "python",
   "nbconvert_exporter": "python",
   "pygments_lexer": "ipython3",
   "version": "3.10.9"
  }
 },
 "nbformat": 4,
 "nbformat_minor": 5
}
